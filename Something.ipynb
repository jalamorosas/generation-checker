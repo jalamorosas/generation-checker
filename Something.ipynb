{
 "cells": [
  {
   "cell_type": "code",
   "execution_count": null,
   "metadata": {},
   "outputs": [],
   "source": [
    "#GENERATION CHECKER\n",
    "age = input(\"Enter the year you were born in: \")\n",
    "age = int(age)\n",
    "\n",
    "if(age <= 1945):\n",
    "    print(\"You are a traditionalist\")\n",
    "elif(age >= 1946 and age <= 1964):\n",
    "    print(\"You are a baby boomer\")\n",
    "elif(age >= 1965 and age <= 1976):\n",
    "    print(\"You are part of Generation X\")\n",
    "elif(age >= 1977 and age <= 1995):\n",
    "    print(\"You are a millenial\")\n",
    "else:\n",
    "    print(\"You are Gen Z\")"
   ]
  },
  {
   "cell_type": "code",
   "execution_count": null,
   "metadata": {},
   "outputs": [],
   "source": []
  }
 ],
 "metadata": {
  "kernelspec": {
   "display_name": "Python 3",
   "language": "python",
   "name": "python3"
  },
  "language_info": {
   "codemirror_mode": {
    "name": "ipython",
    "version": 3
   },
   "file_extension": ".py",
   "mimetype": "text/x-python",
   "name": "python",
   "nbconvert_exporter": "python",
   "pygments_lexer": "ipython3",
   "version": "3.8.3"
  }
 },
 "nbformat": 4,
 "nbformat_minor": 4
}
